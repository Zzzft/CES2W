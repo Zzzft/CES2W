{
 "cells": [
  {
   "cell_type": "code",
   "execution_count": 1,
   "id": "fb1d0206",
   "metadata": {},
   "outputs": [],
   "source": [
    "import torch\n",
    "torch.cuda.empty_cache()"
   ]
  },
  {
   "cell_type": "code",
   "execution_count": 2,
   "id": "968b3659-a0f4-4dd9-866e-936cd3b3512c",
   "metadata": {
    "execution": {
     "iopub.execute_input": "2025-05-02T09:12:29.817343Z",
     "iopub.status.busy": "2025-05-02T09:12:29.817091Z",
     "iopub.status.idle": "2025-05-02T09:12:37.087486Z",
     "shell.execute_reply": "2025-05-02T09:12:37.086965Z",
     "shell.execute_reply.started": "2025-05-02T09:12:29.817321Z"
    },
    "tags": []
   },
   "outputs": [
    {
     "name": "stderr",
     "output_type": "stream",
     "text": [
      "/home/fz/finetune/lora_env/lib/python3.10/site-packages/tqdm/auto.py:21: TqdmWarning: IProgress not found. Please update jupyter and ipywidgets. See https://ipywidgets.readthedocs.io/en/stable/user_install.html\n",
      "  from .autonotebook import tqdm as notebook_tqdm\n"
     ]
    }
   ],
   "source": [
    "from transformers import AutoTokenizer, AutoModelForCausalLM, DataCollatorForSeq2Seq, TrainingArguments, Trainer, GenerationConfig"
   ]
  },
  {
   "cell_type": "code",
   "execution_count": null,
   "id": "3e4b2293-3762-4b5c-939b-2dab7a0955ae",
   "metadata": {
    "ExecutionIndicator": {
     "show": true
    },
    "execution": {
     "iopub.execute_input": "2025-05-02T09:12:37.088889Z",
     "iopub.status.busy": "2025-05-02T09:12:37.088407Z",
     "iopub.status.idle": "2025-05-02T09:12:37.115132Z",
     "shell.execute_reply": "2025-05-02T09:12:37.114747Z",
     "shell.execute_reply.started": "2025-05-02T09:12:37.088869Z"
    },
    "tags": []
   },
   "outputs": [
    {
     "name": "stdout",
     "output_type": "stream",
     "text": [
      "训练集: 8003条 (80.0%)\n",
      "测试集: 2001条 (20.0%)\n"
     ]
    }
   ],
   "source": [
    "import pandas as pd\n",
    "from sklearn.model_selection import train_test_split\n",
    "from datasets import Dataset\n",
    "\n",
    "df = pd.read_json('./dataset/merged_data.json')\n",
    "\n",
    "train_df, test_df = train_test_split(df, test_size=0.2, random_state=42)\n",
    "\n",
    "train_ds = Dataset.from_pandas(train_df)\n",
    "test_ds = Dataset.from_pandas(test_df)\n",
    "\n",
    "print(f\"训练集: {len(train_ds)}条 ({len(train_ds)/len(df):.1%})\")\n",
    "print(f\"测试集: {len(test_ds)}条 ({len(test_ds)/len(df):.1%})\")"
   ]
  },
  {
   "cell_type": "code",
   "execution_count": null,
   "id": "56aa4253-a3b1-441d-b24f-88a78d1732d1",
   "metadata": {
    "ExecutionIndicator": {
     "show": true
    },
    "execution": {
     "iopub.execute_input": "2025-05-02T09:14:46.283480Z",
     "iopub.status.busy": "2025-05-02T09:14:46.283194Z",
     "iopub.status.idle": "2025-05-02T09:14:46.504802Z",
     "shell.execute_reply": "2025-05-02T09:14:46.504176Z",
     "shell.execute_reply.started": "2025-05-02T09:14:46.283462Z"
    },
    "tags": []
   },
   "outputs": [
    {
     "data": {
      "text/plain": [
       "Qwen2Tokenizer(name_or_path='/home/fz/finetune/model/Qwen/Qwen2___5-7B-Instruct', vocab_size=151643, model_max_length=131072, is_fast=False, padding_side='left', truncation_side='right', special_tokens={'eos_token': '<|im_end|>', 'pad_token': '<|endoftext|>', 'additional_special_tokens': ['<|im_start|>', '<|im_end|>', '<|object_ref_start|>', '<|object_ref_end|>', '<|box_start|>', '<|box_end|>', '<|quad_start|>', '<|quad_end|>', '<|vision_start|>', '<|vision_end|>', '<|vision_pad|>', '<|image_pad|>', '<|video_pad|>']}, clean_up_tokenization_spaces=False, added_tokens_decoder={\n",
       "\t151643: AddedToken(\"<|endoftext|>\", rstrip=False, lstrip=False, single_word=False, normalized=False, special=True),\n",
       "\t151644: AddedToken(\"<|im_start|>\", rstrip=False, lstrip=False, single_word=False, normalized=False, special=True),\n",
       "\t151645: AddedToken(\"<|im_end|>\", rstrip=False, lstrip=False, single_word=False, normalized=False, special=True),\n",
       "\t151646: AddedToken(\"<|object_ref_start|>\", rstrip=False, lstrip=False, single_word=False, normalized=False, special=True),\n",
       "\t151647: AddedToken(\"<|object_ref_end|>\", rstrip=False, lstrip=False, single_word=False, normalized=False, special=True),\n",
       "\t151648: AddedToken(\"<|box_start|>\", rstrip=False, lstrip=False, single_word=False, normalized=False, special=True),\n",
       "\t151649: AddedToken(\"<|box_end|>\", rstrip=False, lstrip=False, single_word=False, normalized=False, special=True),\n",
       "\t151650: AddedToken(\"<|quad_start|>\", rstrip=False, lstrip=False, single_word=False, normalized=False, special=True),\n",
       "\t151651: AddedToken(\"<|quad_end|>\", rstrip=False, lstrip=False, single_word=False, normalized=False, special=True),\n",
       "\t151652: AddedToken(\"<|vision_start|>\", rstrip=False, lstrip=False, single_word=False, normalized=False, special=True),\n",
       "\t151653: AddedToken(\"<|vision_end|>\", rstrip=False, lstrip=False, single_word=False, normalized=False, special=True),\n",
       "\t151654: AddedToken(\"<|vision_pad|>\", rstrip=False, lstrip=False, single_word=False, normalized=False, special=True),\n",
       "\t151655: AddedToken(\"<|image_pad|>\", rstrip=False, lstrip=False, single_word=False, normalized=False, special=True),\n",
       "\t151656: AddedToken(\"<|video_pad|>\", rstrip=False, lstrip=False, single_word=False, normalized=False, special=True),\n",
       "\t151657: AddedToken(\"<tool_call>\", rstrip=False, lstrip=False, single_word=False, normalized=False, special=False),\n",
       "\t151658: AddedToken(\"</tool_call>\", rstrip=False, lstrip=False, single_word=False, normalized=False, special=False),\n",
       "\t151659: AddedToken(\"<|fim_prefix|>\", rstrip=False, lstrip=False, single_word=False, normalized=False, special=False),\n",
       "\t151660: AddedToken(\"<|fim_middle|>\", rstrip=False, lstrip=False, single_word=False, normalized=False, special=False),\n",
       "\t151661: AddedToken(\"<|fim_suffix|>\", rstrip=False, lstrip=False, single_word=False, normalized=False, special=False),\n",
       "\t151662: AddedToken(\"<|fim_pad|>\", rstrip=False, lstrip=False, single_word=False, normalized=False, special=False),\n",
       "\t151663: AddedToken(\"<|repo_name|>\", rstrip=False, lstrip=False, single_word=False, normalized=False, special=False),\n",
       "\t151664: AddedToken(\"<|file_sep|>\", rstrip=False, lstrip=False, single_word=False, normalized=False, special=False),\n",
       "}\n",
       ")"
      ]
     },
     "execution_count": 4,
     "metadata": {},
     "output_type": "execute_result"
    }
   ],
   "source": [
    "tokenizer = AutoTokenizer.from_pretrained('./model/Qwen/Qwen2___5-7B-Instruct', use_fast=False, trust_remote_code=True)\n",
    "tokenizer.padding_side = \"left\"  \n",
    "tokenizer"
   ]
  },
  {
   "cell_type": "code",
   "execution_count": null,
   "id": "12df8a44-3ab8-4a19-8b39-967cb76d0709",
   "metadata": {
    "ExecutionIndicator": {
     "show": true
    },
    "execution": {
     "iopub.execute_input": "2025-05-02T09:14:48.066450Z",
     "iopub.status.busy": "2025-05-02T09:14:48.066154Z",
     "iopub.status.idle": "2025-05-02T09:14:48.074547Z",
     "shell.execute_reply": "2025-05-02T09:14:48.074003Z",
     "shell.execute_reply.started": "2025-05-02T09:14:48.066432Z"
    },
    "tags": []
   },
   "outputs": [],
   "source": [
    "def process_func(example):\n",
    "    MAX_LENGTH = 1024   \n",
    "    input_ids, attention_mask, labels = [], [], []\n",
    "    instruction = tokenizer(f\"\"\"<|im_start|>system\n",
    "                            你是一位老年服务机构的文书编辑，擅长将老人的口头叙述准确、清晰地转化为日常书面风格的文本，并判断语句中存在的错误类型。\n",
    "                            句子中可能存在的错误类型：1. 句子成分缺失。2. 句子结构混乱。3. 句子成分错误。4. 句子成分冗余。<|im_end|>\n",
    "                            <|im_start|>user\n",
    "                            原文：{example['spoken_text']}\n",
    "                            上下文(仅协助理解，不翻译): {example['context']}\n",
    "                            仅输出原文那一句话的翻译结果和错误类型序号，不要输出思考过程，不要输出解释。输出格式：\n",
    "                                翻译结果：\n",
    "                                错误类型：<|im_end|>\n",
    "                            <|im_start|>assistant\n",
    "                            \"\"\", add_special_tokens=False)  \n",
    "    # 构建response\n",
    "    response = tokenizer(\n",
    "        f\"翻译结果：{example['written_text']}\\n错误类型：{','.join(map(str, example['error_type']))}\",\n",
    "        add_special_tokens=False\n",
    "    )\n",
    "    input_ids = instruction[\"input_ids\"] + response[\"input_ids\"] + [tokenizer.pad_token_id]\n",
    "    attention_mask = instruction[\"attention_mask\"] + response[\"attention_mask\"] + [1]  \n",
    "    labels = [-100] * len(instruction[\"input_ids\"]) + response[\"input_ids\"] + [tokenizer.pad_token_id]  \n",
    "    if len(input_ids) > MAX_LENGTH: \n",
    "        input_ids = input_ids[:MAX_LENGTH]\n",
    "        attention_mask = attention_mask[:MAX_LENGTH]\n",
    "        labels = labels[:MAX_LENGTH]\n",
    "    return {\n",
    "        \"input_ids\": input_ids,\n",
    "        \"attention_mask\": attention_mask,\n",
    "        \"labels\": labels\n",
    "    }"
   ]
  },
  {
   "cell_type": "code",
   "execution_count": null,
   "id": "7319b6c4-e5d0-47da-9dea-4f28f82e01dc",
   "metadata": {
    "execution": {
     "iopub.execute_input": "2025-05-02T09:14:52.651771Z",
     "iopub.status.busy": "2025-05-02T09:14:52.651450Z",
     "iopub.status.idle": "2025-05-02T09:14:58.430471Z",
     "shell.execute_reply": "2025-05-02T09:14:58.429990Z",
     "shell.execute_reply.started": "2025-05-02T09:14:52.651751Z"
    },
    "tags": []
   },
   "outputs": [
    {
     "name": "stderr",
     "output_type": "stream",
     "text": [
      "Map: 100%|██████████| 8008/8008 [00:29<00:00, 275.48 examples/s]\n"
     ]
    }
   ],
   "source": [
    "tokenized_train = train_ds.map(process_func, remove_columns=train_ds.column_names)"
   ]
  },
  {
   "cell_type": "code",
   "execution_count": 8,
   "id": "0c2071a6-b31b-4a5e-9b21-bdd6d9ae41c9",
   "metadata": {
    "execution": {
     "iopub.execute_input": "2025-05-02T09:14:58.431526Z",
     "iopub.status.busy": "2025-05-02T09:14:58.431276Z",
     "iopub.status.idle": "2025-05-02T09:14:58.435673Z",
     "shell.execute_reply": "2025-05-02T09:14:58.435211Z",
     "shell.execute_reply.started": "2025-05-02T09:14:58.431507Z"
    },
    "tags": []
   },
   "outputs": [
    {
     "data": {
      "text/plain": [
       "'<|im_start|>system\\n                            你是一位老年服务机构的文书编辑，擅长将老人的口头叙述准确、清晰地转化为日常书面风格的文本，并判断语句中存在的错误类型。\\n                            句子中可能存在的错误类型：1. 句子成分缺失。2. 句子结构混乱。3. 句子成分错误。4. 句子成分冗余。<|im_end|>\\n                            <|im_start|>user\\n                            原文：过去反正洗不了，上那个那边去，218（厂）人都拆了，上厕所就得上后边，这样前面得上厕所，你看这公共厕所。\\n                            上下文(仅协助理解，不翻译): 那时候每家都有很多孩子，像我们这一代人家里通常有四五个孩子，你想想看，如果不扩建的话，十多平方米的房子怎么住得下。过去那种小平房的面积普遍很小，20多平方米的房间已经很少见了，大多数只有十几平方米，这样的面积在当时已经算是比较大的了。没错，八九平米到十多平米的情况很常见。您现在40平米的房子住了几口人？我们家有五口人，但孩子不在这里住，我和孙女他们住在这里。他们的儿子住在公租房里，房间里没有洗澡和上厕所的设施，洗澡只能在自己家里解决。现在是冬天，只能自己想办法了。过去反正洗不了，上那个那边去，218（厂）人都拆了，上厕所就得上后边，这样前面得上厕所，你看这公共厕所。岁数大了下个雪下个雨的，反正也不方便，尤其是岁数大，我们那边人80岁90岁的人大有人在。老百姓嘛也就这样，没办法，要有经济实力的，人家早就自己买房子了，好多人都就把希望寄托于拆迁吧。因为工薪阶层那几十块钱只够买馒头，没说买砖头的钱，哪有买砖头的钱，我们那时候住房公积金都特别少。也没赶上什么国家什么红利，事业单位的人没分过房的人，还有什么房屋补助，这企业哪有，什么都没有。\\n                            仅输出原文那一句话的翻译结果和错误类型序号，不要输出思考过程，不要输出解释。输出格式：\\n                                翻译结果：\\n                                错误类型：<|im_end|>\\n                            <|im_start|>assistant\\n                            翻译结果：过去无法洗澡，只能去那边，218厂已经拆除了，上厕所需要到后面去，前面也有公共厕所。\\n错误类型：1,2,4<|endoftext|>'"
      ]
     },
     "execution_count": 8,
     "metadata": {},
     "output_type": "execute_result"
    }
   ],
   "source": [
    "tokenizer.decode(tokenized_train[0]['input_ids'])"
   ]
  },
  {
   "cell_type": "code",
   "execution_count": 9,
   "id": "5bc95adb-6b98-4378-bf90-863c5e367491",
   "metadata": {
    "ExecutionIndicator": {
     "show": true
    },
    "execution": {
     "iopub.execute_input": "2025-05-02T09:14:58.436428Z",
     "iopub.status.busy": "2025-05-02T09:14:58.436250Z",
     "iopub.status.idle": "2025-05-02T09:14:58.440482Z",
     "shell.execute_reply": "2025-05-02T09:14:58.439900Z",
     "shell.execute_reply.started": "2025-05-02T09:14:58.436411Z"
    },
    "tags": []
   },
   "outputs": [
    {
     "data": {
      "text/plain": [
       "'翻译结果：过去无法洗澡，只能去那边，218厂已经拆除了，上厕所需要到后面去，前面也有公共厕所。\\n错误类型：1,2,4<|endoftext|>'"
      ]
     },
     "execution_count": 9,
     "metadata": {},
     "output_type": "execute_result"
    }
   ],
   "source": [
    "tokenizer.decode(list(filter(lambda x: x != -100, tokenized_train[0][\"labels\"])))"
   ]
  },
  {
   "cell_type": "code",
   "execution_count": 10,
   "id": "44c1b128",
   "metadata": {},
   "outputs": [
    {
     "name": "stdout",
     "output_type": "stream",
     "text": [
      "=== 开始检查处理后的数据 ===\n",
      "\n",
      "📌 样本 1:\n",
      "【完整输入文本】:\n",
      "\n",
      "<|im_start|>system\n",
      "                            你是一位老年服务机构的文书编辑，擅长将老人的口头叙述准确、清晰地转化为日常书面风格的文本，并判断语句中存在的错误类型。\n",
      "                            句子中可能存在的错误类型：1. 句子成分缺失。2. 句子结构混乱。3. 句子成分错误。4. 句子成分冗余。<|im_end|>\n",
      "                            \n",
      "<|im_start|>user\n",
      "                            原文：过去反正洗不了，上那个那边去，218（厂）人都拆了，上厕所就得上后边，这样前面得上厕所，你看这公共厕所。\n",
      "                            上下文(仅协助理解，不翻译): 那时候每家都有很多孩子，像我们这一代人家里通常有四五个孩子，你想想看，如果不扩建的话，十多平方米的房子怎么住得下。过去那种小平房的面积普遍很小，20多平方米的房间已经很少见了，大多数只有十几平方米，这样的面积在当时已经算是比较大的了。没错，八九平米到十多平米的情况很常见。您现在40平米的房子住了几口人？我们家有五口人，但孩子不在这里住，我和孙女他们住在这里。他们的儿子住在公租房里，房间里没有洗澡和上厕所的设施，洗澡只能在自己家里解决。现在是冬天，只能自己想办法了。过去反正洗不了，上那个那边去，218（厂）人都拆了，上厕所就得上后边，这样前面得上厕所，你看这公共厕所。岁数大了下个雪下个雨的，反正也不方便，尤其是岁数大，我们那边人80岁90岁的人大有人在。老百姓嘛也就这样，没办法，要有经济实力的，人家早就自己买房子了，好多人都就把希望寄托于拆迁吧。因为工薪阶层那几十块钱只够买馒头，没说买砖头的钱，哪有买砖头的钱，我们那时候住房公积金都特别少。也没赶上什么国家什么红利，事业单位的人没分过房的人，还有什么房屋补助，这企业哪有，什么都没有。\n",
      "                            仅输出原文那一句话的翻译结果和错误类型序号，不要输出思考过程，不要输出解释。输出格式：\n",
      "                                翻译结果：\n",
      "                                错误类型：<|im_end|>\n",
      "                            \n",
      "<|im_start|>assistant\n",
      "                            翻译结果：过去无法洗澡，只能去那边，218厂已经拆除了，上厕所需要到后面去，前面也有公共厕所。\n",
      "错误类型：1,2,4<|endoftext|>\n",
      "\n",
      "【期望输出】:\n",
      "翻译结果：过去无法洗澡，只能去那边，218厂已经拆除了，上厕所需要到后面去，前面也有公共厕所。\n",
      "错误类型：1,2,4\n",
      "\n",
      "【元信息】:\n",
      "input_ids长度: 541\n",
      "attention_mask: [1, 1, 1, 1, 1, 1, 1, 1, 1, 1]...\n",
      "--------------------------------------------------\n",
      "\n",
      "📌 样本 2:\n",
      "【完整输入文本】:\n",
      "\n",
      "<|im_start|>system\n",
      "                            你是一位老年服务机构的文书编辑，擅长将老人的口头叙述准确、清晰地转化为日常书面风格的文本，并判断语句中存在的错误类型。\n",
      "                            句子中可能存在的错误类型：1. 句子成分缺失。2. 句子结构混乱。3. 句子成分错误。4. 句子成分冗余。<|im_end|>\n",
      "                            \n",
      "<|im_start|>user\n",
      "                            原文：我们来这的时间，反正就是，在那时间就是，当工人吧，还可以吧。\n",
      "                            上下文(仅协助理解，不翻译): 炼油厂的建设工程是从1955年开始的。我们于1956年来到这里，参与炼油厂的修建工作。我们来到炼油厂时，那里的工程都在地下进行，管道也铺设在地下，地面上几乎看不到什么设施。当时的工作就是在炼油厂挖沟并埋设管道。大叔，您还记得你们刚来时的那个工作条件怎么样吗？我们来这的时间，反正就是，在那时间就是，当工人吧，还可以吧。反正粗粮啊，细粮吧总还是有的，能吃的饱不？能咋能，能倒能吃吃饱。就是59年，56年57年，嗯58年，59年开始生活紧张，一直到62年吧。嗯在那时间生活紧张，像我们就是一个月就是，30来斤粮食吧。能吃饱不？吃不饱吃不饱，那时候年轻，干的活可能也累。\n",
      "                            仅输出原文那一句话的翻译结果和错误类型序号，不要输出思考过程，不要输出解释。输出格式：\n",
      "                                翻译结果：\n",
      "                                错误类型：<|im_end|>\n",
      "                            \n",
      "<|im_start|>assistant\n",
      "                            翻译结果：我们来到这里的时间是在当工人的时候，那时候的工作条件还可以。\n",
      "错误类型：2<|endoftext|>\n",
      "\n",
      "【期望输出】:\n",
      "翻译结果：我们来到这里的时间是在当工人的时候，那时候的工作条件还可以。\n",
      "错误类型：2\n",
      "\n",
      "【元信息】:\n",
      "input_ids长度: 396\n",
      "attention_mask: [1, 1, 1, 1, 1, 1, 1, 1, 1, 1]...\n",
      "--------------------------------------------------\n"
     ]
    }
   ],
   "source": [
    "def print_processed_samples(dataset, num_samples=2):\n",
    "    print(\"=== 开始检查处理后的数据 ===\")\n",
    "    for i in range(num_samples):\n",
    "        sample = dataset[i]\n",
    "        print(f\"\\n📌 样本 {i+1}:\")\n",
    "        \n",
    "        # 解码input_ids\n",
    "        input_text = tokenizer.decode(sample[\"input_ids\"], skip_special_tokens=False)\n",
    "        print(\"【完整输入文本】:\")\n",
    "        print(input_text.replace(\"<|im_start|>\", \"\\n<|im_start|>\"))  # 格式化换行\n",
    "        \n",
    "        # 解码labels（忽略-100）\n",
    "        labels = [x if x != -100 else tokenizer.pad_token_id for x in sample[\"labels\"]]\n",
    "        print(\"\\n【期望输出】:\")\n",
    "        print(tokenizer.decode(labels, skip_special_tokens=True))\n",
    "        \n",
    "        print(\"\\n【元信息】:\")\n",
    "        print(f\"input_ids长度: {len(sample['input_ids'])}\")\n",
    "        print(f\"attention_mask: {sample['attention_mask'][:10]}...\")  # 只显示前10个\n",
    "        print(\"-\"*50)\n",
    "\n",
    "# 检查训练集前2个样本\n",
    "print_processed_samples(tokenized_train, 2)\n"
   ]
  },
  {
   "cell_type": "code",
   "execution_count": null,
   "id": "daac681e-015b-4412-8c9f-9da8361d28de",
   "metadata": {
    "ExecutionIndicator": {
     "show": true
    },
    "execution": {
     "iopub.execute_input": "2025-05-02T09:15:01.612213Z",
     "iopub.status.busy": "2025-05-02T09:15:01.611925Z",
     "iopub.status.idle": "2025-05-02T09:15:06.967679Z",
     "shell.execute_reply": "2025-05-02T09:15:06.966997Z",
     "shell.execute_reply.started": "2025-05-02T09:15:01.612195Z"
    },
    "tags": []
   },
   "outputs": [
    {
     "name": "stderr",
     "output_type": "stream",
     "text": [
      "Loading checkpoint shards: 100%|██████████| 4/4 [00:03<00:00,  1.22it/s]\n"
     ]
    },
    {
     "data": {
      "text/plain": [
       "Qwen2ForCausalLM(\n",
       "  (model): Qwen2Model(\n",
       "    (embed_tokens): Embedding(152064, 3584)\n",
       "    (layers): ModuleList(\n",
       "      (0-27): 28 x Qwen2DecoderLayer(\n",
       "        (self_attn): Qwen2Attention(\n",
       "          (q_proj): Linear(in_features=3584, out_features=3584, bias=True)\n",
       "          (k_proj): Linear(in_features=3584, out_features=512, bias=True)\n",
       "          (v_proj): Linear(in_features=3584, out_features=512, bias=True)\n",
       "          (o_proj): Linear(in_features=3584, out_features=3584, bias=False)\n",
       "        )\n",
       "        (mlp): Qwen2MLP(\n",
       "          (gate_proj): Linear(in_features=3584, out_features=18944, bias=False)\n",
       "          (up_proj): Linear(in_features=3584, out_features=18944, bias=False)\n",
       "          (down_proj): Linear(in_features=18944, out_features=3584, bias=False)\n",
       "          (act_fn): SiLU()\n",
       "        )\n",
       "        (input_layernorm): Qwen2RMSNorm((3584,), eps=1e-06)\n",
       "        (post_attention_layernorm): Qwen2RMSNorm((3584,), eps=1e-06)\n",
       "      )\n",
       "    )\n",
       "    (norm): Qwen2RMSNorm((3584,), eps=1e-06)\n",
       "    (rotary_emb): Qwen2RotaryEmbedding()\n",
       "  )\n",
       "  (lm_head): Linear(in_features=3584, out_features=152064, bias=False)\n",
       ")"
      ]
     },
     "execution_count": 11,
     "metadata": {},
     "output_type": "execute_result"
    }
   ],
   "source": [
    "import torch\n",
    "\n",
    "model = AutoModelForCausalLM.from_pretrained('./model/Qwen/Qwen2___5-7B-Instruct/', device_map=\"auto\",torch_dtype=torch.bfloat16, attn_implementation=\"flash_attention_2\",use_cache=False)\n",
    "\n",
    "model"
   ]
  },
  {
   "cell_type": "code",
   "execution_count": 12,
   "id": "d6eaf93f",
   "metadata": {},
   "outputs": [
    {
     "name": "stdout",
     "output_type": "stream",
     "text": [
      "flash_attention_2\n"
     ]
    }
   ],
   "source": [
    "print(model.config._attn_implementation)"
   ]
  },
  {
   "cell_type": "code",
   "execution_count": 13,
   "id": "63124620-6f4f-4020-bfee-7be44aedc805",
   "metadata": {
    "execution": {
     "iopub.execute_input": "2025-05-02T09:15:06.969033Z",
     "iopub.status.busy": "2025-05-02T09:15:06.968699Z",
     "iopub.status.idle": "2025-05-02T09:15:06.971929Z",
     "shell.execute_reply": "2025-05-02T09:15:06.971379Z",
     "shell.execute_reply.started": "2025-05-02T09:15:06.969009Z"
    },
    "tags": []
   },
   "outputs": [],
   "source": [
    "model.enable_input_require_grads() # 开启梯度检查点时，要执行该方法"
   ]
  },
  {
   "cell_type": "code",
   "execution_count": 14,
   "id": "c4903968-c561-40d8-b450-a5a7ec231037",
   "metadata": {
    "execution": {
     "iopub.execute_input": "2025-05-02T09:15:06.972916Z",
     "iopub.status.busy": "2025-05-02T09:15:06.972649Z",
     "iopub.status.idle": "2025-05-02T09:15:06.976795Z",
     "shell.execute_reply": "2025-05-02T09:15:06.976253Z",
     "shell.execute_reply.started": "2025-05-02T09:15:06.972895Z"
    },
    "tags": []
   },
   "outputs": [
    {
     "data": {
      "text/plain": [
       "torch.bfloat16"
      ]
     },
     "execution_count": 14,
     "metadata": {},
     "output_type": "execute_result"
    }
   ],
   "source": [
    "model.dtype"
   ]
  },
  {
   "cell_type": "markdown",
   "id": "5f9fbb37-ccff-42ef-aa60-6e01c10084ae",
   "metadata": {},
   "source": [
    "# lora"
   ]
  },
  {
   "cell_type": "code",
   "execution_count": 15,
   "id": "45ab5181-b560-42f5-b485-991feacf8779",
   "metadata": {
    "ExecutionIndicator": {
     "show": true
    },
    "execution": {
     "iopub.execute_input": "2025-05-02T09:15:09.224452Z",
     "iopub.status.busy": "2025-05-02T09:15:09.224131Z",
     "iopub.status.idle": "2025-05-02T09:15:09.228759Z",
     "shell.execute_reply": "2025-05-02T09:15:09.228248Z",
     "shell.execute_reply.started": "2025-05-02T09:15:09.224436Z"
    },
    "tags": []
   },
   "outputs": [
    {
     "data": {
      "text/plain": [
       "LoraConfig(task_type=<TaskType.CAUSAL_LM: 'CAUSAL_LM'>, peft_type=<PeftType.LORA: 'LORA'>, auto_mapping=None, base_model_name_or_path=None, revision=None, inference_mode=False, r=8, target_modules={'v_proj', 'q_proj', 'up_proj', 'k_proj', 'o_proj', 'gate_proj', 'down_proj'}, exclude_modules=None, lora_alpha=32, lora_dropout=0.1, fan_in_fan_out=False, bias='none', use_rslora=False, modules_to_save=None, init_lora_weights=True, layers_to_transform=None, layers_pattern=None, rank_pattern={}, alpha_pattern={}, megatron_config=None, megatron_core='megatron.core', trainable_token_indices=None, loftq_config={}, eva_config=None, corda_config=None, use_dora=False, layer_replication=None, runtime_config=LoraRuntimeConfig(ephemeral_gpu_offload=False), lora_bias=False)"
      ]
     },
     "execution_count": 15,
     "metadata": {},
     "output_type": "execute_result"
    }
   ],
   "source": [
    "from peft import LoraConfig, TaskType, get_peft_model\n",
    "\n",
    "config = LoraConfig(\n",
    "    task_type=TaskType.CAUSAL_LM, \n",
    "    target_modules=[\"q_proj\", \"v_proj\", \"k_proj\", \"o_proj\", \"gate_proj\", \"up_proj\", \"down_proj\"],\n",
    "    inference_mode=False, # 训练模式\n",
    "    r=8, # Lora 秩\n",
    "    lora_alpha=32, # Lora alaph，具体作用参见 Lora 原理\n",
    "    lora_dropout=0.1 # Dropout 比例 0.1？\n",
    ")\n",
    "config"
   ]
  },
  {
   "cell_type": "code",
   "execution_count": 16,
   "id": "73403447-e6f8-436d-a6ae-9a3e62d697dd",
   "metadata": {
    "execution": {
     "iopub.execute_input": "2025-05-02T09:15:10.660265Z",
     "iopub.status.busy": "2025-05-02T09:15:10.659962Z",
     "iopub.status.idle": "2025-05-02T09:15:11.447768Z",
     "shell.execute_reply": "2025-05-02T09:15:11.447192Z",
     "shell.execute_reply.started": "2025-05-02T09:15:10.660248Z"
    },
    "tags": []
   },
   "outputs": [
    {
     "data": {
      "text/plain": [
       "LoraConfig(task_type=<TaskType.CAUSAL_LM: 'CAUSAL_LM'>, peft_type=<PeftType.LORA: 'LORA'>, auto_mapping=None, base_model_name_or_path='/home/fz/finetune/model/Qwen/Qwen2___5-7B-Instruct/', revision=None, inference_mode=False, r=8, target_modules={'v_proj', 'q_proj', 'up_proj', 'k_proj', 'o_proj', 'gate_proj', 'down_proj'}, exclude_modules=None, lora_alpha=32, lora_dropout=0.1, fan_in_fan_out=False, bias='none', use_rslora=False, modules_to_save=None, init_lora_weights=True, layers_to_transform=None, layers_pattern=None, rank_pattern={}, alpha_pattern={}, megatron_config=None, megatron_core='megatron.core', trainable_token_indices=None, loftq_config={}, eva_config=None, corda_config=None, use_dora=False, layer_replication=None, runtime_config=LoraRuntimeConfig(ephemeral_gpu_offload=False), lora_bias=False)"
      ]
     },
     "execution_count": 16,
     "metadata": {},
     "output_type": "execute_result"
    }
   ],
   "source": [
    "model = get_peft_model(model, config)\n",
    "config"
   ]
  },
  {
   "cell_type": "code",
   "execution_count": 17,
   "id": "bdadeda7-40c7-4d13-bb10-2342f2589b59",
   "metadata": {
    "execution": {
     "iopub.execute_input": "2025-05-02T09:05:26.963151Z",
     "iopub.status.busy": "2025-05-02T09:05:26.962719Z",
     "iopub.status.idle": "2025-05-02T09:05:26.973514Z",
     "shell.execute_reply": "2025-05-02T09:05:26.972963Z",
     "shell.execute_reply.started": "2025-05-02T09:05:26.963124Z"
    },
    "tags": []
   },
   "outputs": [
    {
     "name": "stdout",
     "output_type": "stream",
     "text": [
      "trainable params: 20,185,088 || all params: 7,635,801,600 || trainable%: 0.2643\n"
     ]
    }
   ],
   "source": [
    "model.print_trainable_parameters()"
   ]
  },
  {
   "cell_type": "markdown",
   "id": "f1bcf2d8-27ba-46e7-afc3-0af4564f0bcd",
   "metadata": {},
   "source": [
    "# 配置训练参数"
   ]
  },
  {
   "cell_type": "code",
   "execution_count": null,
   "id": "f2ebb791-793f-43c4-95a1-25b5d5e0b070",
   "metadata": {
    "ExecutionIndicator": {
     "show": true
    },
    "execution": {
     "iopub.execute_input": "2025-05-02T09:16:02.581160Z",
     "iopub.status.busy": "2025-05-02T09:16:02.580873Z",
     "iopub.status.idle": "2025-05-02T09:16:02.593775Z",
     "shell.execute_reply": "2025-05-02T09:16:02.593334Z",
     "shell.execute_reply.started": "2025-05-02T09:16:02.581143Z"
    },
    "tags": []
   },
   "outputs": [],
   "source": [
    "args = TrainingArguments(\n",
    "    output_dir=\"./output/Qwen2.5-7B-Instruct/train2\",\n",
    "    per_device_train_batch_size=4,\n",
    "    gradient_accumulation_steps=4,\n",
    "    logging_steps=10,\n",
    "    num_train_epochs=3,\n",
    "    save_steps=100,\n",
    "    learning_rate=5e-5,\n",
    "    lr_scheduler_type=\"cosine\",\n",
    "    save_on_each_node=True,\n",
    "    save_strategy = \"steps\",\n",
    "    gradient_checkpointing=True\n",
    ")"
   ]
  },
  {
   "cell_type": "code",
   "execution_count": null,
   "id": "9daa30c2-752c-49db-888a-af48baaa434e",
   "metadata": {
    "execution": {
     "iopub.execute_input": "2025-05-02T09:16:04.605160Z",
     "iopub.status.busy": "2025-05-02T09:16:04.604877Z",
     "iopub.status.idle": "2025-05-02T09:16:06.090889Z",
     "shell.execute_reply": "2025-05-02T09:16:06.090450Z",
     "shell.execute_reply.started": "2025-05-02T09:16:04.605145Z"
    },
    "tags": []
   },
   "outputs": [
    {
     "name": "stderr",
     "output_type": "stream",
     "text": [
      "No label_names provided for model class `PeftModelForCausalLM`. Since `PeftModel` hides base models input arguments, if label_names is not given, label_names can't be set automatically within `Trainer`. Note that empty label_names list will be used instead.\n"
     ]
    }
   ],
   "source": [
    "data_collator = DataCollatorForSeq2Seq(\n",
    "    tokenizer=tokenizer,\n",
    "    padding=\"longest\",\n",
    "    pad_to_multiple_of=8,  \n",
    "    return_tensors=\"pt\"     \n",
    ")\n",
    "\n",
    "trainer = Trainer(\n",
    "    model=model,\n",
    "    args=args,\n",
    "    train_dataset=tokenized_train,\n",
    "    data_collator=data_collator,\n",
    ")"
   ]
  },
  {
   "cell_type": "code",
   "execution_count": 20,
   "id": "d051dc78-00a8-4d89-aa36-7ed70b5bf71b",
   "metadata": {
    "execution": {
     "iopub.execute_input": "2025-05-02T09:16:07.321503Z",
     "iopub.status.busy": "2025-05-02T09:16:07.321207Z",
     "iopub.status.idle": "2025-05-02T09:20:16.043996Z",
     "shell.execute_reply": "2025-05-02T09:20:16.043552Z",
     "shell.execute_reply.started": "2025-05-02T09:16:07.321488Z"
    },
    "scrolled": true,
    "tags": []
   },
   "outputs": [
    {
     "data": {
      "text/html": [
       "\n",
       "    <div>\n",
       "      \n",
       "      <progress value='1500' max='1500' style='width:300px; height:20px; vertical-align: middle;'></progress>\n",
       "      [1500/1500 1:47:26, Epoch 2/3]\n",
       "    </div>\n",
       "    <table border=\"1\" class=\"dataframe\">\n",
       "  <thead>\n",
       " <tr style=\"text-align: left;\">\n",
       "      <th>Step</th>\n",
       "      <th>Training Loss</th>\n",
       "    </tr>\n",
       "  </thead>\n",
       "  <tbody>\n",
       "    <tr>\n",
       "      <td>10</td>\n",
       "      <td>1.592600</td>\n",
       "    </tr>\n",
       "    <tr>\n",
       "      <td>20</td>\n",
       "      <td>0.906900</td>\n",
       "    </tr>\n",
       "    <tr>\n",
       "      <td>30</td>\n",
       "      <td>0.832900</td>\n",
       "    </tr>\n",
       "    <tr>\n",
       "      <td>40</td>\n",
       "      <td>0.850400</td>\n",
       "    </tr>\n",
       "    <tr>\n",
       "      <td>50</td>\n",
       "      <td>0.774500</td>\n",
       "    </tr>\n",
       "    <tr>\n",
       "      <td>60</td>\n",
       "      <td>0.749900</td>\n",
       "    </tr>\n",
       "    <tr>\n",
       "      <td>70</td>\n",
       "      <td>0.761200</td>\n",
       "    </tr>\n",
       "    <tr>\n",
       "      <td>80</td>\n",
       "      <td>0.763200</td>\n",
       "    </tr>\n",
       "    <tr>\n",
       "      <td>90</td>\n",
       "      <td>0.796800</td>\n",
       "    </tr>\n",
       "    <tr>\n",
       "      <td>100</td>\n",
       "      <td>0.757100</td>\n",
       "    </tr>\n",
       "    <tr>\n",
       "      <td>110</td>\n",
       "      <td>0.761200</td>\n",
       "    </tr>\n",
       "    <tr>\n",
       "      <td>120</td>\n",
       "      <td>0.689400</td>\n",
       "    </tr>\n",
       "    <tr>\n",
       "      <td>130</td>\n",
       "      <td>0.724600</td>\n",
       "    </tr>\n",
       "    <tr>\n",
       "      <td>140</td>\n",
       "      <td>0.736000</td>\n",
       "    </tr>\n",
       "    <tr>\n",
       "      <td>150</td>\n",
       "      <td>0.724900</td>\n",
       "    </tr>\n",
       "    <tr>\n",
       "      <td>160</td>\n",
       "      <td>0.718300</td>\n",
       "    </tr>\n",
       "    <tr>\n",
       "      <td>170</td>\n",
       "      <td>0.731000</td>\n",
       "    </tr>\n",
       "    <tr>\n",
       "      <td>180</td>\n",
       "      <td>0.737900</td>\n",
       "    </tr>\n",
       "    <tr>\n",
       "      <td>190</td>\n",
       "      <td>0.686900</td>\n",
       "    </tr>\n",
       "    <tr>\n",
       "      <td>200</td>\n",
       "      <td>0.726600</td>\n",
       "    </tr>\n",
       "    <tr>\n",
       "      <td>210</td>\n",
       "      <td>0.739900</td>\n",
       "    </tr>\n",
       "    <tr>\n",
       "      <td>220</td>\n",
       "      <td>0.697000</td>\n",
       "    </tr>\n",
       "    <tr>\n",
       "      <td>230</td>\n",
       "      <td>0.728600</td>\n",
       "    </tr>\n",
       "    <tr>\n",
       "      <td>240</td>\n",
       "      <td>0.707100</td>\n",
       "    </tr>\n",
       "    <tr>\n",
       "      <td>250</td>\n",
       "      <td>0.741300</td>\n",
       "    </tr>\n",
       "    <tr>\n",
       "      <td>260</td>\n",
       "      <td>0.682100</td>\n",
       "    </tr>\n",
       "    <tr>\n",
       "      <td>270</td>\n",
       "      <td>0.728100</td>\n",
       "    </tr>\n",
       "    <tr>\n",
       "      <td>280</td>\n",
       "      <td>0.703100</td>\n",
       "    </tr>\n",
       "    <tr>\n",
       "      <td>290</td>\n",
       "      <td>0.690600</td>\n",
       "    </tr>\n",
       "    <tr>\n",
       "      <td>300</td>\n",
       "      <td>0.680300</td>\n",
       "    </tr>\n",
       "    <tr>\n",
       "      <td>310</td>\n",
       "      <td>0.698000</td>\n",
       "    </tr>\n",
       "    <tr>\n",
       "      <td>320</td>\n",
       "      <td>0.713000</td>\n",
       "    </tr>\n",
       "    <tr>\n",
       "      <td>330</td>\n",
       "      <td>0.673100</td>\n",
       "    </tr>\n",
       "    <tr>\n",
       "      <td>340</td>\n",
       "      <td>0.691600</td>\n",
       "    </tr>\n",
       "    <tr>\n",
       "      <td>350</td>\n",
       "      <td>0.658800</td>\n",
       "    </tr>\n",
       "    <tr>\n",
       "      <td>360</td>\n",
       "      <td>0.680700</td>\n",
       "    </tr>\n",
       "    <tr>\n",
       "      <td>370</td>\n",
       "      <td>0.705800</td>\n",
       "    </tr>\n",
       "    <tr>\n",
       "      <td>380</td>\n",
       "      <td>0.708000</td>\n",
       "    </tr>\n",
       "    <tr>\n",
       "      <td>390</td>\n",
       "      <td>0.676700</td>\n",
       "    </tr>\n",
       "    <tr>\n",
       "      <td>400</td>\n",
       "      <td>0.653400</td>\n",
       "    </tr>\n",
       "    <tr>\n",
       "      <td>410</td>\n",
       "      <td>0.670000</td>\n",
       "    </tr>\n",
       "    <tr>\n",
       "      <td>420</td>\n",
       "      <td>0.695900</td>\n",
       "    </tr>\n",
       "    <tr>\n",
       "      <td>430</td>\n",
       "      <td>0.689500</td>\n",
       "    </tr>\n",
       "    <tr>\n",
       "      <td>440</td>\n",
       "      <td>0.649900</td>\n",
       "    </tr>\n",
       "    <tr>\n",
       "      <td>450</td>\n",
       "      <td>0.664800</td>\n",
       "    </tr>\n",
       "    <tr>\n",
       "      <td>460</td>\n",
       "      <td>0.653800</td>\n",
       "    </tr>\n",
       "    <tr>\n",
       "      <td>470</td>\n",
       "      <td>0.676400</td>\n",
       "    </tr>\n",
       "    <tr>\n",
       "      <td>480</td>\n",
       "      <td>0.690600</td>\n",
       "    </tr>\n",
       "    <tr>\n",
       "      <td>490</td>\n",
       "      <td>0.641800</td>\n",
       "    </tr>\n",
       "    <tr>\n",
       "      <td>500</td>\n",
       "      <td>0.719400</td>\n",
       "    </tr>\n",
       "    <tr>\n",
       "      <td>510</td>\n",
       "      <td>0.603000</td>\n",
       "    </tr>\n",
       "    <tr>\n",
       "      <td>520</td>\n",
       "      <td>0.622400</td>\n",
       "    </tr>\n",
       "    <tr>\n",
       "      <td>530</td>\n",
       "      <td>0.573100</td>\n",
       "    </tr>\n",
       "    <tr>\n",
       "      <td>540</td>\n",
       "      <td>0.546200</td>\n",
       "    </tr>\n",
       "    <tr>\n",
       "      <td>550</td>\n",
       "      <td>0.572200</td>\n",
       "    </tr>\n",
       "    <tr>\n",
       "      <td>560</td>\n",
       "      <td>0.567100</td>\n",
       "    </tr>\n",
       "    <tr>\n",
       "      <td>570</td>\n",
       "      <td>0.517600</td>\n",
       "    </tr>\n",
       "    <tr>\n",
       "      <td>580</td>\n",
       "      <td>0.511700</td>\n",
       "    </tr>\n",
       "    <tr>\n",
       "      <td>590</td>\n",
       "      <td>0.540100</td>\n",
       "    </tr>\n",
       "    <tr>\n",
       "      <td>600</td>\n",
       "      <td>0.566200</td>\n",
       "    </tr>\n",
       "    <tr>\n",
       "      <td>610</td>\n",
       "      <td>0.541300</td>\n",
       "    </tr>\n",
       "    <tr>\n",
       "      <td>620</td>\n",
       "      <td>0.554300</td>\n",
       "    </tr>\n",
       "    <tr>\n",
       "      <td>630</td>\n",
       "      <td>0.558000</td>\n",
       "    </tr>\n",
       "    <tr>\n",
       "      <td>640</td>\n",
       "      <td>0.548500</td>\n",
       "    </tr>\n",
       "    <tr>\n",
       "      <td>650</td>\n",
       "      <td>0.543500</td>\n",
       "    </tr>\n",
       "    <tr>\n",
       "      <td>660</td>\n",
       "      <td>0.548200</td>\n",
       "    </tr>\n",
       "    <tr>\n",
       "      <td>670</td>\n",
       "      <td>0.528400</td>\n",
       "    </tr>\n",
       "    <tr>\n",
       "      <td>680</td>\n",
       "      <td>0.557200</td>\n",
       "    </tr>\n",
       "    <tr>\n",
       "      <td>690</td>\n",
       "      <td>0.531800</td>\n",
       "    </tr>\n",
       "    <tr>\n",
       "      <td>700</td>\n",
       "      <td>0.531400</td>\n",
       "    </tr>\n",
       "    <tr>\n",
       "      <td>710</td>\n",
       "      <td>0.547700</td>\n",
       "    </tr>\n",
       "    <tr>\n",
       "      <td>720</td>\n",
       "      <td>0.565600</td>\n",
       "    </tr>\n",
       "    <tr>\n",
       "      <td>730</td>\n",
       "      <td>0.538800</td>\n",
       "    </tr>\n",
       "    <tr>\n",
       "      <td>740</td>\n",
       "      <td>0.545700</td>\n",
       "    </tr>\n",
       "    <tr>\n",
       "      <td>750</td>\n",
       "      <td>0.559300</td>\n",
       "    </tr>\n",
       "    <tr>\n",
       "      <td>760</td>\n",
       "      <td>0.512200</td>\n",
       "    </tr>\n",
       "    <tr>\n",
       "      <td>770</td>\n",
       "      <td>0.540900</td>\n",
       "    </tr>\n",
       "    <tr>\n",
       "      <td>780</td>\n",
       "      <td>0.546700</td>\n",
       "    </tr>\n",
       "    <tr>\n",
       "      <td>790</td>\n",
       "      <td>0.530300</td>\n",
       "    </tr>\n",
       "    <tr>\n",
       "      <td>800</td>\n",
       "      <td>0.523400</td>\n",
       "    </tr>\n",
       "    <tr>\n",
       "      <td>810</td>\n",
       "      <td>0.515500</td>\n",
       "    </tr>\n",
       "    <tr>\n",
       "      <td>820</td>\n",
       "      <td>0.531400</td>\n",
       "    </tr>\n",
       "    <tr>\n",
       "      <td>830</td>\n",
       "      <td>0.517300</td>\n",
       "    </tr>\n",
       "    <tr>\n",
       "      <td>840</td>\n",
       "      <td>0.525500</td>\n",
       "    </tr>\n",
       "    <tr>\n",
       "      <td>850</td>\n",
       "      <td>0.551300</td>\n",
       "    </tr>\n",
       "    <tr>\n",
       "      <td>860</td>\n",
       "      <td>0.548700</td>\n",
       "    </tr>\n",
       "    <tr>\n",
       "      <td>870</td>\n",
       "      <td>0.532800</td>\n",
       "    </tr>\n",
       "    <tr>\n",
       "      <td>880</td>\n",
       "      <td>0.550800</td>\n",
       "    </tr>\n",
       "    <tr>\n",
       "      <td>890</td>\n",
       "      <td>0.549100</td>\n",
       "    </tr>\n",
       "    <tr>\n",
       "      <td>900</td>\n",
       "      <td>0.529600</td>\n",
       "    </tr>\n",
       "    <tr>\n",
       "      <td>910</td>\n",
       "      <td>0.530200</td>\n",
       "    </tr>\n",
       "    <tr>\n",
       "      <td>920</td>\n",
       "      <td>0.558600</td>\n",
       "    </tr>\n",
       "    <tr>\n",
       "      <td>930</td>\n",
       "      <td>0.510800</td>\n",
       "    </tr>\n",
       "    <tr>\n",
       "      <td>940</td>\n",
       "      <td>0.528400</td>\n",
       "    </tr>\n",
       "    <tr>\n",
       "      <td>950</td>\n",
       "      <td>0.518100</td>\n",
       "    </tr>\n",
       "    <tr>\n",
       "      <td>960</td>\n",
       "      <td>0.531200</td>\n",
       "    </tr>\n",
       "    <tr>\n",
       "      <td>970</td>\n",
       "      <td>0.560700</td>\n",
       "    </tr>\n",
       "    <tr>\n",
       "      <td>980</td>\n",
       "      <td>0.524600</td>\n",
       "    </tr>\n",
       "    <tr>\n",
       "      <td>990</td>\n",
       "      <td>0.525700</td>\n",
       "    </tr>\n",
       "    <tr>\n",
       "      <td>1000</td>\n",
       "      <td>0.529000</td>\n",
       "    </tr>\n",
       "    <tr>\n",
       "      <td>1010</td>\n",
       "      <td>0.460300</td>\n",
       "    </tr>\n",
       "    <tr>\n",
       "      <td>1020</td>\n",
       "      <td>0.438300</td>\n",
       "    </tr>\n",
       "    <tr>\n",
       "      <td>1030</td>\n",
       "      <td>0.425900</td>\n",
       "    </tr>\n",
       "    <tr>\n",
       "      <td>1040</td>\n",
       "      <td>0.423500</td>\n",
       "    </tr>\n",
       "    <tr>\n",
       "      <td>1050</td>\n",
       "      <td>0.411200</td>\n",
       "    </tr>\n",
       "    <tr>\n",
       "      <td>1060</td>\n",
       "      <td>0.413600</td>\n",
       "    </tr>\n",
       "    <tr>\n",
       "      <td>1070</td>\n",
       "      <td>0.418200</td>\n",
       "    </tr>\n",
       "    <tr>\n",
       "      <td>1080</td>\n",
       "      <td>0.393800</td>\n",
       "    </tr>\n",
       "    <tr>\n",
       "      <td>1090</td>\n",
       "      <td>0.374500</td>\n",
       "    </tr>\n",
       "    <tr>\n",
       "      <td>1100</td>\n",
       "      <td>0.420000</td>\n",
       "    </tr>\n",
       "    <tr>\n",
       "      <td>1110</td>\n",
       "      <td>0.409000</td>\n",
       "    </tr>\n",
       "    <tr>\n",
       "      <td>1120</td>\n",
       "      <td>0.433200</td>\n",
       "    </tr>\n",
       "    <tr>\n",
       "      <td>1130</td>\n",
       "      <td>0.404200</td>\n",
       "    </tr>\n",
       "    <tr>\n",
       "      <td>1140</td>\n",
       "      <td>0.378400</td>\n",
       "    </tr>\n",
       "    <tr>\n",
       "      <td>1150</td>\n",
       "      <td>0.392200</td>\n",
       "    </tr>\n",
       "    <tr>\n",
       "      <td>1160</td>\n",
       "      <td>0.376400</td>\n",
       "    </tr>\n",
       "    <tr>\n",
       "      <td>1170</td>\n",
       "      <td>0.434900</td>\n",
       "    </tr>\n",
       "    <tr>\n",
       "      <td>1180</td>\n",
       "      <td>0.415000</td>\n",
       "    </tr>\n",
       "    <tr>\n",
       "      <td>1190</td>\n",
       "      <td>0.427000</td>\n",
       "    </tr>\n",
       "    <tr>\n",
       "      <td>1200</td>\n",
       "      <td>0.389300</td>\n",
       "    </tr>\n",
       "    <tr>\n",
       "      <td>1210</td>\n",
       "      <td>0.386900</td>\n",
       "    </tr>\n",
       "    <tr>\n",
       "      <td>1220</td>\n",
       "      <td>0.419700</td>\n",
       "    </tr>\n",
       "    <tr>\n",
       "      <td>1230</td>\n",
       "      <td>0.408100</td>\n",
       "    </tr>\n",
       "    <tr>\n",
       "      <td>1240</td>\n",
       "      <td>0.423700</td>\n",
       "    </tr>\n",
       "    <tr>\n",
       "      <td>1250</td>\n",
       "      <td>0.432600</td>\n",
       "    </tr>\n",
       "    <tr>\n",
       "      <td>1260</td>\n",
       "      <td>0.420500</td>\n",
       "    </tr>\n",
       "    <tr>\n",
       "      <td>1270</td>\n",
       "      <td>0.387200</td>\n",
       "    </tr>\n",
       "    <tr>\n",
       "      <td>1280</td>\n",
       "      <td>0.403900</td>\n",
       "    </tr>\n",
       "    <tr>\n",
       "      <td>1290</td>\n",
       "      <td>0.404000</td>\n",
       "    </tr>\n",
       "    <tr>\n",
       "      <td>1300</td>\n",
       "      <td>0.410500</td>\n",
       "    </tr>\n",
       "    <tr>\n",
       "      <td>1310</td>\n",
       "      <td>0.379000</td>\n",
       "    </tr>\n",
       "    <tr>\n",
       "      <td>1320</td>\n",
       "      <td>0.417700</td>\n",
       "    </tr>\n",
       "    <tr>\n",
       "      <td>1330</td>\n",
       "      <td>0.418400</td>\n",
       "    </tr>\n",
       "    <tr>\n",
       "      <td>1340</td>\n",
       "      <td>0.427200</td>\n",
       "    </tr>\n",
       "    <tr>\n",
       "      <td>1350</td>\n",
       "      <td>0.394000</td>\n",
       "    </tr>\n",
       "    <tr>\n",
       "      <td>1360</td>\n",
       "      <td>0.391300</td>\n",
       "    </tr>\n",
       "    <tr>\n",
       "      <td>1370</td>\n",
       "      <td>0.413900</td>\n",
       "    </tr>\n",
       "    <tr>\n",
       "      <td>1380</td>\n",
       "      <td>0.391000</td>\n",
       "    </tr>\n",
       "    <tr>\n",
       "      <td>1390</td>\n",
       "      <td>0.412400</td>\n",
       "    </tr>\n",
       "    <tr>\n",
       "      <td>1400</td>\n",
       "      <td>0.406800</td>\n",
       "    </tr>\n",
       "    <tr>\n",
       "      <td>1410</td>\n",
       "      <td>0.399600</td>\n",
       "    </tr>\n",
       "    <tr>\n",
       "      <td>1420</td>\n",
       "      <td>0.405200</td>\n",
       "    </tr>\n",
       "    <tr>\n",
       "      <td>1430</td>\n",
       "      <td>0.425100</td>\n",
       "    </tr>\n",
       "    <tr>\n",
       "      <td>1440</td>\n",
       "      <td>0.417200</td>\n",
       "    </tr>\n",
       "    <tr>\n",
       "      <td>1450</td>\n",
       "      <td>0.413800</td>\n",
       "    </tr>\n",
       "    <tr>\n",
       "      <td>1460</td>\n",
       "      <td>0.389400</td>\n",
       "    </tr>\n",
       "    <tr>\n",
       "      <td>1470</td>\n",
       "      <td>0.424000</td>\n",
       "    </tr>\n",
       "    <tr>\n",
       "      <td>1480</td>\n",
       "      <td>0.407800</td>\n",
       "    </tr>\n",
       "    <tr>\n",
       "      <td>1490</td>\n",
       "      <td>0.402700</td>\n",
       "    </tr>\n",
       "    <tr>\n",
       "      <td>1500</td>\n",
       "      <td>0.399100</td>\n",
       "    </tr>\n",
       "  </tbody>\n",
       "</table><p>"
      ],
      "text/plain": [
       "<IPython.core.display.HTML object>"
      ]
     },
     "metadata": {},
     "output_type": "display_data"
    },
    {
     "data": {
      "text/plain": [
       "TrainOutput(global_step=1500, training_loss=0.5623032140731812, metrics={'train_runtime': 6450.9965, 'train_samples_per_second': 3.724, 'train_steps_per_second': 0.233, 'total_flos': 5.009711045218468e+17, 'train_loss': 0.5623032140731812, 'epoch': 2.995004995004995})"
      ]
     },
     "execution_count": 20,
     "metadata": {},
     "output_type": "execute_result"
    }
   ],
   "source": [
    "trainer.train()"
   ]
  },
  {
   "cell_type": "code",
   "execution_count": 21,
   "id": "2406a20b-83f8-49ba-a8d2-41f6cddd7a16",
   "metadata": {
    "execution": {
     "iopub.execute_input": "2025-05-02T09:09:51.547625Z",
     "iopub.status.busy": "2025-05-02T09:09:51.547329Z",
     "iopub.status.idle": "2025-05-02T09:09:54.081893Z",
     "shell.execute_reply": "2025-05-02T09:09:54.081376Z",
     "shell.execute_reply.started": "2025-05-02T09:09:51.547609Z"
    },
    "tags": []
   },
   "outputs": [
    {
     "name": "stderr",
     "output_type": "stream",
     "text": [
      "Map: 100%|██████████| 2002/2002 [00:11<00:00, 171.60 examples/s]\n"
     ]
    }
   ],
   "source": [
    "tokenized_test = test_ds.map(process_func, remove_columns=test_ds.column_names)"
   ]
  },
  {
   "cell_type": "code",
   "execution_count": 22,
   "id": "8c56fab9",
   "metadata": {},
   "outputs": [
    {
     "data": {
      "text/html": [
       "\n",
       "    <div>\n",
       "      \n",
       "      <progress value='2007' max='5' style='width:300px; height:20px; vertical-align: middle;'></progress>\n",
       "      [5/5 03:15]\n",
       "    </div>\n",
       "    "
      ],
      "text/plain": [
       "<IPython.core.display.HTML object>"
      ]
     },
     "metadata": {},
     "output_type": "display_data"
    },
    {
     "data": {
      "text/plain": [
       "{'eval_loss': 0.7335529327392578,\n",
       " 'eval_runtime': 0.4538,\n",
       " 'eval_samples_per_second': 11.017,\n",
       " 'eval_steps_per_second': 11.017,\n",
       " 'epoch': 2.995004995004995}"
      ]
     },
     "execution_count": 22,
     "metadata": {},
     "output_type": "execute_result"
    }
   ],
   "source": [
    "import gc\n",
    "gc.collect()\n",
    "torch.cuda.empty_cache()\n",
    "\n",
    "model.config.use_cache = False\n",
    "trainer.args.per_device_eval_batch_size = 1\n",
    "trainer.evaluate(tokenized_test.select(range(5)))  # 先试 5 条\n"
   ]
  },
  {
   "cell_type": "code",
   "execution_count": 23,
   "id": "3ae3fbe8-de87-41b6-a1ee-ed10e93ce7fe",
   "metadata": {
    "execution": {
     "iopub.execute_input": "2025-05-02T09:09:55.537888Z",
     "iopub.status.busy": "2025-05-02T09:09:55.537584Z",
     "iopub.status.idle": "2025-05-02T09:10:00.099114Z",
     "shell.execute_reply": "2025-05-02T09:10:00.098703Z",
     "shell.execute_reply.started": "2025-05-02T09:09:55.537872Z"
    },
    "tags": []
   },
   "outputs": [
    {
     "data": {
      "text/plain": [
       "{'eval_loss': 0.6889927983283997,\n",
       " 'eval_runtime': 169.3178,\n",
       " 'eval_samples_per_second': 11.824,\n",
       " 'eval_steps_per_second': 11.824,\n",
       " 'epoch': 2.995004995004995}"
      ]
     },
     "execution_count": 23,
     "metadata": {},
     "output_type": "execute_result"
    }
   ],
   "source": [
    "trainer.evaluate(tokenized_test)"
   ]
  },
  {
   "cell_type": "markdown",
   "id": "0814a560-1e42-4ced-99e6-de9648f8bfd8",
   "metadata": {},
   "source": [
    "# 合并加载模型"
   ]
  },
  {
   "cell_type": "code",
   "execution_count": null,
   "id": "7219bb51-66fa-4dae-bf5a-997382c220df",
   "metadata": {
    "ExecutionIndicator": {
     "show": true
    },
    "execution": {
     "iopub.execute_input": "2025-04-16T07:25:46.429110Z",
     "iopub.status.busy": "2025-04-16T07:25:46.428813Z",
     "iopub.status.idle": "2025-04-16T07:25:54.070491Z",
     "shell.execute_reply": "2025-04-16T07:25:54.069902Z",
     "shell.execute_reply.started": "2025-04-16T07:25:46.429092Z"
    },
    "scrolled": true,
    "tags": []
   },
   "outputs": [
    {
     "name": "stderr",
     "output_type": "stream",
     "text": [
      "/home/fz/finetune/lora_env/lib/python3.10/site-packages/tqdm/auto.py:21: TqdmWarning: IProgress not found. Please update jupyter and ipywidgets. See https://ipywidgets.readthedocs.io/en/stable/user_install.html\n",
      "  from .autonotebook import tqdm as notebook_tqdm\n",
      "Sliding Window Attention is enabled but not implemented for `sdpa`; unexpected results may be encountered.\n",
      "Loading checkpoint shards: 100%|██████████| 4/4 [00:02<00:00,  1.96it/s]\n"
     ]
    }
   ],
   "source": [
    "from transformers import AutoModelForCausalLM, AutoTokenizer\n",
    "import torch\n",
    "from peft import PeftModel\n",
    "\n",
    "mode_path = './model/Qwen/Qwen2___5-7B-Instruct/'\n",
    "lora_path = './output/Qwen2.5-7B-Instruct/train2/checkpoint-1500/' # 这里改称你的 lora 输出对应 checkpoint 地址\n",
    "\n",
    "# 加载tokenizer\n",
    "tokenizer = AutoTokenizer.from_pretrained(mode_path, trust_remote_code=True)\n",
    "tokenizer.padding_side = \"left\"\n",
    "\n",
    "# 加载模型\n",
    "model = AutoModelForCausalLM.from_pretrained(mode_path, device_map=\"auto\",torch_dtype=torch.bfloat16, trust_remote_code=True).eval()\n",
    "\n",
    "# 加载lora权重\n",
    "model = PeftModel.from_pretrained(model, model_id=lora_path)\n"
   ]
  },
  {
   "cell_type": "code",
   "execution_count": null,
   "id": "5f61ae5d",
   "metadata": {},
   "outputs": [
    {
     "name": "stdout",
     "output_type": "stream",
     "text": [
      "cuda:0\n"
     ]
    }
   ],
   "source": [
    "torch.cuda.empty_cache()\n",
    "\n",
    "device = torch.device(\"cuda\" if torch.cuda.is_available() else \"cpu\")\n",
    "model.to(device)  # 将模型移动到 GPU 上\n",
    "print(model.device)"
   ]
  },
  {
   "cell_type": "code",
   "execution_count": null,
   "id": "f1224c14-304b-4240-96f3-8a2a9609d0ce",
   "metadata": {
    "execution": {
     "iopub.execute_input": "2025-04-16T07:25:55.297688Z",
     "iopub.status.busy": "2025-04-16T07:25:55.297406Z",
     "iopub.status.idle": "2025-04-16T07:25:55.301121Z",
     "shell.execute_reply": "2025-04-16T07:25:55.300514Z",
     "shell.execute_reply.started": "2025-04-16T07:25:55.297673Z"
    },
    "tags": []
   },
   "outputs": [
    {
     "data": {
      "text/plain": [
       "Dataset({\n",
       "    features: ['id', 'file_id', 'spoken_text', 'context', 'written_text', 'error_type', '__index_level_0__'],\n",
       "    num_rows: 2001\n",
       "})"
      ]
     },
     "execution_count": 3,
     "metadata": {},
     "output_type": "execute_result"
    }
   ],
   "source": [
    "from sklearn.model_selection import train_test_split\n",
    "import pandas as pd\n",
    "from datasets import Dataset\n",
    "\n",
    "df = pd.read_json('./dataset/test_dataset.json')\n",
    "\n",
    "test_ds = Dataset.from_pandas(df)\n",
    "test_ds"
   ]
  },
  {
   "cell_type": "code",
   "execution_count": 4,
   "id": "ad2a8a0e",
   "metadata": {},
   "outputs": [
    {
     "data": {
      "text/plain": [
       "device(type='cuda', index=0)"
      ]
     },
     "execution_count": 4,
     "metadata": {},
     "output_type": "execute_result"
    }
   ],
   "source": [
    "model.device "
   ]
  },
  {
   "cell_type": "code",
   "execution_count": null,
   "id": "733468c2",
   "metadata": {},
   "outputs": [
    {
     "name": "stderr",
     "output_type": "stream",
     "text": [
      "Processing samples:   0%|          | 0/251 [00:00<?, ?it/s]/home/fz/finetune/lora_env/lib/python3.10/site-packages/transformers/generation/configuration_utils.py:631: UserWarning: `do_sample` is set to `False`. However, `temperature` is set to `0.2` -- this flag is only used in sample-based generation modes. You should set `do_sample=True` or unset `temperature`.\n",
      "  warnings.warn(\n",
      "/home/fz/finetune/lora_env/lib/python3.10/site-packages/transformers/generation/configuration_utils.py:636: UserWarning: `do_sample` is set to `False`. However, `top_p` is set to `0.95` -- this flag is only used in sample-based generation modes. You should set `do_sample=True` or unset `top_p`.\n",
      "  warnings.warn(\n",
      "/home/fz/finetune/lora_env/lib/python3.10/site-packages/transformers/generation/configuration_utils.py:653: UserWarning: `do_sample` is set to `False`. However, `top_k` is set to `20` -- this flag is only used in sample-based generation modes. You should set `do_sample=True` or unset `top_k`.\n",
      "  warnings.warn(\n",
      "Processing samples: 100%|██████████| 251/251 [11:49<00:00,  2.83s/it]"
     ]
    },
    {
     "name": "stdout",
     "output_type": "stream",
     "text": [
      "✅ 预测结果已保存到 model_predictions/lora_predictions_qwen.json\n"
     ]
    },
    {
     "name": "stderr",
     "output_type": "stream",
     "text": [
      "\n"
     ]
    }
   ],
   "source": [
    "import torch\n",
    "import random\n",
    "import json\n",
    "import re\n",
    "from tqdm import tqdm\n",
    "\n",
    "# ✅ 解析预测结果中的“翻译结果”和“错误类型”\n",
    "def extract_translation_and_error_type(pred_text):\n",
    "    trans_match = re.search(r\"翻译结果：\\s*(.*?)\\n\", pred_text, re.DOTALL)\n",
    "    translation = trans_match.group(1).strip() if trans_match else \"\"\n",
    "\n",
    "    error_match = re.search(r\"错误类型：\\s*(.+)\", pred_text)\n",
    "    if error_match:\n",
    "        error_str = error_match.group(1).strip()\n",
    "        error_type = [int(x) for x in re.findall(r\"\\d+\", error_str)]\n",
    "    else:\n",
    "        error_type = []\n",
    "\n",
    "    return translation, error_type\n",
    "\n",
    "tokenizer.padding_side = 'left'\n",
    "test_samples =list(test_ds)\n",
    "\n",
    "batch_size = 8\n",
    "all_results = []\n",
    "\n",
    "for i in tqdm(range(0, len(test_samples), batch_size), desc=\"Processing samples\"):\n",
    "    batch = test_samples[i:i+batch_size]\n",
    "\n",
    "    # ✅ 构造输入\n",
    "    prompts = [\n",
    "        f\"\"\"<|im_start|>system\n",
    "你是一位老年服务机构的文书编辑，擅长将老人的口头叙述准确、清晰地转化为日常书面风格的文本，并判断语句中存在的错误类型。\n",
    "句子中可能存在的错误类型：1. 句子成分缺失。2. 句子结构混乱。3. 句子成分错误。4. 句子成分冗余。<|im_end|>\n",
    "<|im_start|>user\n",
    "原文：{example['spoken_text']}\n",
    "上下文(仅协助理解，不翻译): {example['context']}\n",
    "仅输出原文那一句话的翻译结果和错误类型序号，不要输出思考过程，不要输出解释。输出格式：\n",
    "    翻译结果：\n",
    "    错误类型：<|im_end|>\n",
    "<|im_start|>assistant\"\"\" for example in batch\n",
    "    ]\n",
    "\n",
    "    inputs = tokenizer(\n",
    "        prompts,\n",
    "        return_tensors=\"pt\",\n",
    "        padding=\"longest\",\n",
    "        truncation=True,\n",
    "    ).to(model.device)\n",
    "\n",
    "    # ✅ 推理\n",
    "    with torch.no_grad():\n",
    "        outputs = model.generate(\n",
    "            **inputs,\n",
    "            max_new_tokens=256,\n",
    "            num_beams=1,\n",
    "            do_sample=False,\n",
    "            temperature=0.2,\n",
    "            top_p=0.95,\n",
    "        )\n",
    "\n",
    "    outputs = outputs[:, inputs['input_ids'].shape[1]:]\n",
    "    preds = tokenizer.batch_decode(outputs, skip_special_tokens=True)\n",
    "\n",
    "    # ✅ 处理每条预测结果\n",
    "    for pred_text, example in zip(preds, batch):\n",
    "        translation, predicted_error_type = extract_translation_and_error_type(pred_text)\n",
    "\n",
    "        # 转换原始标签为数组\n",
    "        true_error = example.get(\"error_type\", [])\n",
    "        if isinstance(true_error, int):\n",
    "            true_error = [true_error]\n",
    "        elif isinstance(true_error, str):\n",
    "            true_error = [int(x) for x in re.findall(r\"\\d+\", true_error)]\n",
    "\n",
    "        result = {\n",
    "            \"spoken_text\": example[\"spoken_text\"],\n",
    "            \"context\": example[\"context\"],\n",
    "            \"reference\": example[\"written_text\"],\n",
    "            \"ref_error_type\": true_error,\n",
    "            \"prediction\": translation,\n",
    "            \"pred_error_type\": predicted_error_type\n",
    "        }\n",
    "        all_results.append(result)\n",
    "\n",
    "# ✅ 保存结果到 JSON 文件\n",
    "output_file = \"./result/lora/lora_predictions_qwen.json\"\n",
    "with open(output_file, \"w\", encoding=\"utf-8\") as f:\n",
    "    json.dump(all_results, f, ensure_ascii=False, indent=2)\n",
    "\n",
    "print(f\"✅ 预测结果已保存到 {output_file}\")\n",
    "\n"
   ]
  },
  {
   "cell_type": "code",
   "execution_count": null,
   "id": "03a67709",
   "metadata": {},
   "outputs": [
    {
     "name": "stderr",
     "output_type": "stream",
     "text": [
      "  0%|          | 0/2001 [00:00<?, ?it/s]Building prefix dict from the default dictionary ...\n",
      "DEBUG:jieba:Building prefix dict from the default dictionary ...\n",
      "Loading model from cache /tmp/jieba.cache\n",
      "DEBUG:jieba:Loading model from cache /tmp/jieba.cache\n",
      "Loading model cost 0.398 seconds.\n",
      "DEBUG:jieba:Loading model cost 0.398 seconds.\n",
      "Prefix dict has been built successfully.\n",
      "DEBUG:jieba:Prefix dict has been built successfully.\n",
      "  1%|          | 13/2001 [00:00<01:02, 31.58it/s]Token indices sequence length is longer than the specified maximum sequence length for this model (132 > 128). Running this sequence through the model will result in indexing errors\n",
      "100%|██████████| 2001/2001 [00:18<00:00, 109.73it/s]"
     ]
    },
    {
     "name": "stdout",
     "output_type": "stream",
     "text": [
      "各项指标的平均值：\n",
      "BLEU-1: 0.6986\n",
      "BLEU-2: 0.4935\n",
      "BLEU-3: 0.3641\n",
      "BLEU-4: 0.2789\n",
      "ROUGE-1: 0.6483\n",
      "ROUGE-2: 0.3754\n",
      "ROUGE-L: 0.5943\n",
      "BLEURT: 0.4148\n",
      "Joint Accuracy: 0.3888\n",
      "Acc-1: 0.8873\n"
     ]
    },
    {
     "name": "stderr",
     "output_type": "stream",
     "text": [
      "\n"
     ]
    }
   ],
   "source": [
    "import json\n",
    "from transformers import AutoModelForSequenceClassification, AutoTokenizer\n",
    "import torch\n",
    "from tqdm import tqdm\n",
    "import numpy as np\n",
    "\n",
    "# 加载模型和 tokenizer\n",
    "tokenizer = AutoTokenizer.from_pretrained(\"./bleurt-base-128\", local_files_only=True)\n",
    "model = AutoModelForSequenceClassification.from_pretrained(\"./bleurt-base-128\", local_files_only=True)\n",
    "model.eval()\n",
    "device = torch.device(\"cuda\" if torch.cuda.is_available() else \"cpu\")\n",
    "model.to(device)\n",
    "\n",
    "# 加载数据\n",
    "with open(\"./result/lora/lora_predictions_qwen.json\", \"r\", encoding=\"utf-8\") as f:\n",
    "    data = json.load(f)\n",
    "\n",
    "import importlib\n",
    "import eval.evaluate as evaluate\n",
    "importlib.reload(evaluate)  # 强制重新加载  \n",
    "from eval.evaluate import calculate_all_metrics\n",
    "\n",
    "# 存储所有指标\n",
    "all_scores = []\n",
    "\n",
    "for item in tqdm(data):\n",
    "    reference = item[\"reference\"]\n",
    "    generated = item[\"prediction\"]\n",
    "    if not reference or not generated:\n",
    "        continue  # 跳过空文本样本\n",
    "    ref_error_types = item.get(\"ref_error_type\", [])\n",
    "    pred_error_types = item.get(\"pred_error_type\", [])\n",
    "\n",
    "    metrics = calculate_all_metrics(reference, generated, tokenizer, model, ref_error_types, pred_error_types, device)\n",
    "    all_scores.append(metrics)\n",
    "\n",
    "# 计算每个指标的平均值\n",
    "average_scores = {}\n",
    "for key in all_scores[0].keys():\n",
    "    average_scores[key] = np.mean([score[key] for score in all_scores])\n",
    "\n",
    "# 打印平均结果\n",
    "print(\"各项指标的平均值：\")\n",
    "for key, value in average_scores.items():\n",
    "    print(f\"{key}: {value:.4f}\")\n"
   ]
  }
 ],
 "metadata": {
  "kernelspec": {
   "display_name": "lora_env",
   "language": "python",
   "name": "python3"
  },
  "language_info": {
   "codemirror_mode": {
    "name": "ipython",
    "version": 3
   },
   "file_extension": ".py",
   "mimetype": "text/x-python",
   "name": "python",
   "nbconvert_exporter": "python",
   "pygments_lexer": "ipython3",
   "version": "3.10.12"
  }
 },
 "nbformat": 4,
 "nbformat_minor": 5
}
